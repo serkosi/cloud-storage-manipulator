{
 "cells": [
  {
   "cell_type": "code",
   "execution_count": 6,
   "metadata": {},
   "outputs": [],
   "source": [
    "import pandas as pd\n",
    "from openpyxl import load_workbook"
   ]
  },
  {
   "cell_type": "code",
   "execution_count": 4,
   "metadata": {},
   "outputs": [],
   "source": [
    "# Reading from an Excel file\n",
    "df = pd.read_excel('test_data.xlsx', sheet_name='CF_2024')\n",
    "\n",
    "# Writing to an Excel file\n",
    "#df.to_excel('output.xlsx', sheet_name='Sheet1', index=False)"
   ]
  },
  {
   "cell_type": "code",
   "execution_count": 7,
   "metadata": {},
   "outputs": [
    {
     "name": "stdout",
     "output_type": "stream",
     "text": [
      "The formula in L32 is: =L3+L9+L21+L23-208\n"
     ]
    }
   ],
   "source": [
    "# Load the workbook and select the sheet\n",
    "wb = load_workbook('test_data.xlsx', data_only=False)\n",
    "sheet = wb['CF_2024']\n",
    "\n",
    "# Extract the formula from a specific cell\n",
    "formula = sheet['L32'].value\n",
    "\n",
    "print(f\"The formula in L32 is: {formula}\")"
   ]
  },
  {
   "cell_type": "code",
   "execution_count": 10,
   "metadata": {},
   "outputs": [
    {
     "name": "stdout",
     "output_type": "stream",
     "text": [
      "The formula in L32 is: =L3+L9+L21+L23-208\n",
      "The value in L32 is: 826.4841666666664\n"
     ]
    }
   ],
   "source": [
    "# Load the workbook twice: once for formulas and once for values\n",
    "wb_formula = load_workbook('test_data.xlsx', data_only=False)\n",
    "wb_value = load_workbook('test_data.xlsx', data_only=True)\n",
    "\n",
    "# Select the sheet\n",
    "sheet_formula = wb_formula['CF_2024']\n",
    "sheet_value = wb_value['CF_2024']\n",
    "\n",
    "# Extract the formula and the value from a specific cell\n",
    "formula = sheet_formula['L32'].value\n",
    "value = sheet_value['L32'].value\n",
    "\n",
    "print(f\"The formula in L32 is: {formula}\")\n",
    "print(f\"The value in L32 is: {value}\")"
   ]
  },
  {
   "cell_type": "code",
   "execution_count": 27,
   "metadata": {},
   "outputs": [],
   "source": [
    "# Load the workbook and select the sheet\n",
    "wb = load_workbook('test_data2.xlsx')\n",
    "sheet = wb['Sheet1']\n",
    "\n",
    "# Edit the cell value\n",
    "sheet['F15'] = '1'\n",
    "\n",
    "# Save the workbook\n",
    "wb.save('test_data2.xlsx')"
   ]
  },
  {
   "cell_type": "code",
   "execution_count": 28,
   "metadata": {},
   "outputs": [],
   "source": [
    "wb_formula = load_workbook('test_data2.xlsx', data_only=False)\n",
    "wb_value = load_workbook('test_data2.xlsx', data_only=True)\n",
    "sheet_formula = wb_formula['Sheet1']\n",
    "sheet_value = wb_value['Sheet1']"
   ]
  },
  {
   "cell_type": "code",
   "execution_count": 30,
   "metadata": {},
   "outputs": [],
   "source": [
    "sheet_value['O11'].value"
   ]
  },
  {
   "cell_type": "code",
   "execution_count": 25,
   "metadata": {},
   "outputs": [],
   "source": [
    "sheet_value['F15'].value"
   ]
  },
  {
   "cell_type": "code",
   "execution_count": 33,
   "metadata": {},
   "outputs": [],
   "source": [
    "import xlwings as xw"
   ]
  },
  {
   "cell_type": "code",
   "execution_count": 46,
   "metadata": {},
   "outputs": [],
   "source": [
    "wb = xw.Book('test_data2.xlsx')\n",
    "sheet = wb.sheets['Sheet1']\n",
    "sheet.range('F15').value = '3'\n",
    "# Force recalculation\n",
    "wb.app.calculate()"
   ]
  },
  {
   "cell_type": "code",
   "execution_count": 44,
   "metadata": {},
   "outputs": [],
   "source": [
    "wb.close()"
   ]
  },
  {
   "cell_type": "code",
   "execution_count": 47,
   "metadata": {},
   "outputs": [
    {
     "data": {
      "text/plain": [
       "Decimal('41.75')"
      ]
     },
     "execution_count": 47,
     "metadata": {},
     "output_type": "execute_result"
    }
   ],
   "source": [
    "sheet['O11'].value"
   ]
  },
  {
   "cell_type": "code",
   "execution_count": 36,
   "metadata": {},
   "outputs": [],
   "source": [
    "# Save and close the workbook\n",
    "wb.save('test_data2.xlsx')\n",
    "wb.close()"
   ]
  },
  {
   "cell_type": "code",
   "execution_count": null,
   "metadata": {},
   "outputs": [],
   "source": []
  }
 ],
 "metadata": {
  "kernelspec": {
   "display_name": "Python 3",
   "language": "python",
   "name": "python3"
  },
  "language_info": {
   "codemirror_mode": {
    "name": "ipython",
    "version": 3
   },
   "file_extension": ".py",
   "mimetype": "text/x-python",
   "name": "python",
   "nbconvert_exporter": "python",
   "pygments_lexer": "ipython3",
   "version": "3.11.9"
  }
 },
 "nbformat": 4,
 "nbformat_minor": 2
}
