{
 "cells": [
  {
   "cell_type": "code",
   "execution_count": 1,
   "metadata": {},
   "outputs": [],
   "source": [
    "import msal\n",
    "import requests"
   ]
  },
  {
   "cell_type": "code",
   "execution_count": 15,
   "metadata": {},
   "outputs": [],
   "source": [
    "# Load credentials from a JSON file\n",
    "with open('credentials.json') as f:\n",
    "    credentials = json.load(f)\n",
    "\n",
    "client_id = credentials['client_id']\n",
    "client_secret = credentials['client_secret']\n",
    "redirect_uri = 'http://localhost'  # Redirect URI you set in the app registration\n",
    "authority = 'https://login.microsoftonline.com/common'\n",
    "scopes = ['Files.ReadWrite.All']"
   ]
  },
  {
   "cell_type": "code",
   "execution_count": 16,
   "metadata": {},
   "outputs": [],
   "source": [
    "# Step 1: Create a confidential client application\n",
    "app = msal.ConfidentialClientApplication(client_id, authority=authority, client_credential=client_secret)"
   ]
  },
  {
   "cell_type": "code",
   "execution_count": 17,
   "metadata": {},
   "outputs": [
    {
     "name": "stdout",
     "output_type": "stream",
     "text": [
      "Please go to this URL and authorize the app: https://login.microsoftonline.com/common/oauth2/v2.0/authorize?client_id=eee9040c-6dc0-4cc6-858b-56348f716240&response_type=code&redirect_uri=http%3A%2F%2Flocalhost&scope=Files.ReadWrite.All+offline_access+openid+profile\n"
     ]
    }
   ],
   "source": [
    "# Step 2: Get the authorization URL\n",
    "auth_url = app.get_authorization_request_url(scopes, redirect_uri=redirect_uri)\n",
    "print(f\"Please go to this URL and authorize the app: {auth_url}\")"
   ]
  },
  {
   "cell_type": "code",
   "execution_count": 20,
   "metadata": {},
   "outputs": [],
   "source": [
    "# Step 3: After the user authorizes the app, they will be redirected to the redirect URI with a code\n",
    "# You need to capture that code and use it to get an access token\n",
    "code = input(\"Enter the authorization code: \")"
   ]
  },
  {
   "cell_type": "code",
   "execution_count": 21,
   "metadata": {},
   "outputs": [],
   "source": [
    "# Step 4: Get the access token\n",
    "result = app.acquire_token_by_authorization_code(code, scopes=scopes, redirect_uri=redirect_uri)\n"
   ]
  },
  {
   "cell_type": "code",
   "execution_count": 22,
   "metadata": {},
   "outputs": [
    {
     "name": "stdout",
     "output_type": "stream",
     "text": [
      "Access token acquired successfully.\n"
     ]
    }
   ],
   "source": [
    "if 'access_token' in result:\n",
    "    access_token = result['access_token']\n",
    "    print(\"Access token acquired successfully.\")\n",
    "else:\n",
    "    print(\"Failed to acquire access token.\")\n",
    "    print(result)\n",
    "    exit()"
   ]
  },
  {
   "cell_type": "code",
   "execution_count": 23,
   "metadata": {},
   "outputs": [],
   "source": [
    "# Define headers for the API requests\n",
    "headers = {\n",
    "    'Authorization': f'Bearer {access_token}',\n",
    "    'Content-Type': 'application/json'\n",
    "}"
   ]
  },
  {
   "cell_type": "code",
   "execution_count": 24,
   "metadata": {},
   "outputs": [],
   "source": [
    "# Define the file path and workbook URL\n",
    "file_path = '/Documents/_work/_employee/Logistik/Lieferando/file.xlsx'\n",
    "workbook_url = f'https://graph.microsoft.com/v1.0/me/drive/root:{file_path}:/workbook'\n"
   ]
  },
  {
   "cell_type": "code",
   "execution_count": 25,
   "metadata": {},
   "outputs": [
    {
     "name": "stdout",
     "output_type": "stream",
     "text": [
      "{'@odata.context': \"https://graph.microsoft.com/v1.0/$metadata#users('serkosif%40outlook.de')/drive/root/workbook/$entity\", '@odata.id': \"/users('serkosif%40outlook.de')/drive/root:/Documents/_work/_employee/Logistik/Lieferando/file.xlsx:/workbook/\"}\n"
     ]
    }
   ],
   "source": [
    "# Get the workbook\n",
    "response = requests.get(workbook_url, headers=headers)\n",
    "workbook = response.json()\n",
    "print(workbook)"
   ]
  },
  {
   "cell_type": "code",
   "execution_count": 26,
   "metadata": {},
   "outputs": [],
   "source": [
    "# Example: Update a cell value\n",
    "update_url = f'{workbook_url}/worksheets/Sheet1/range(address=\\'A1\\')'\n",
    "update_data = {\n",
    "    \"values\": [[\"Updated Value\"]]\n",
    "}"
   ]
  },
  {
   "cell_type": "code",
   "execution_count": 27,
   "metadata": {},
   "outputs": [
    {
     "name": "stdout",
     "output_type": "stream",
     "text": [
      "Cell updated successfully.\n"
     ]
    }
   ],
   "source": [
    "response = requests.patch(update_url, headers=headers, json=update_data)\n",
    "if response.status_code == 200:\n",
    "    print(\"Cell updated successfully.\")\n",
    "else:\n",
    "    print(\"Failed to update cell.\")\n",
    "    print(response.json())"
   ]
  },
  {
   "cell_type": "code",
   "execution_count": null,
   "metadata": {},
   "outputs": [],
   "source": []
  }
 ],
 "metadata": {
  "kernelspec": {
   "display_name": "Python 3",
   "language": "python",
   "name": "python3"
  },
  "language_info": {
   "codemirror_mode": {
    "name": "ipython",
    "version": 3
   },
   "file_extension": ".py",
   "mimetype": "text/x-python",
   "name": "python",
   "nbconvert_exporter": "python",
   "pygments_lexer": "ipython3",
   "version": "3.11.9"
  }
 },
 "nbformat": 4,
 "nbformat_minor": 2
}
